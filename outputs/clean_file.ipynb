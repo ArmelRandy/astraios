{
 "cells": [
  {
   "cell_type": "code",
   "execution_count": 2,
   "metadata": {},
   "outputs": [],
   "source": [
    "import os\n",
    "import json\n",
    "from glob import glob"
   ]
  },
  {
   "cell_type": "code",
   "execution_count": 3,
   "metadata": {},
   "outputs": [
    {
     "data": {
      "text/plain": [
       "['aatk-dow',\n",
       " 'clean_file.ipynb',\n",
       " 'recode-syntax',\n",
       " 'humanevalexplainsynthesize-python',\n",
       " 'clone_detection',\n",
       " 'humanevalsynthesize-java',\n",
       " 'humanevalfixtests-python',\n",
       " 'recode-function',\n",
       " 'recode-docstring',\n",
       " 'humanevalsynthesize-python',\n",
       " 'humanevalexplainsynthesize-java',\n",
       " 'humanevalfixtests-java',\n",
       " 'defect_detection',\n",
       " 'clone_defection_ablation',\n",
       " 'recode-format',\n",
       " 'defect_detection_ablation']"
      ]
     },
     "execution_count": 3,
     "metadata": {},
     "output_type": "execute_result"
    }
   ],
   "source": [
    "glob(\"*\")"
   ]
  },
  {
   "cell_type": "code",
   "execution_count": 4,
   "metadata": {},
   "outputs": [],
   "source": [
    "for folder in glob(\"*\"):\n",
    "    for file in glob(folder+\"/*\"):\n",
    "        if any(x in file for x in [\"adalora\",\"prompt\",\"prefix\"]):\n",
    "            os.remove(file)"
   ]
  },
  {
   "cell_type": "code",
   "execution_count": 5,
   "metadata": {},
   "outputs": [
    {
     "name": "stdout",
     "output_type": "stream",
     "text": [
      "aatk-dow\n",
      "28\n",
      "clean_file.ipynb\n",
      "0\n",
      "recode-syntax\n",
      "28\n",
      "humanevalexplainsynthesize-python\n",
      "24\n",
      "clone_detection\n",
      "28\n",
      "humanevalsynthesize-java\n",
      "23\n",
      "humanevalfixtests-python\n",
      "21\n",
      "recode-function\n",
      "28\n",
      "recode-docstring\n",
      "28\n",
      "humanevalsynthesize-python\n",
      "23\n",
      "humanevalexplainsynthesize-java\n",
      "15\n",
      "humanevalfixtests-java\n",
      "23\n",
      "defect_detection\n",
      "28\n",
      "clone_defection_ablation\n",
      "28\n",
      "recode-format\n",
      "28\n",
      "defect_detection_ablation\n",
      "28\n"
     ]
    }
   ],
   "source": [
    "for folder in glob(\"*\"):\n",
    "    print(folder)\n",
    "    print(len(glob(folder+\"/*\")))"
   ]
  },
  {
   "cell_type": "code",
   "execution_count": null,
   "metadata": {},
   "outputs": [],
   "source": []
  }
 ],
 "metadata": {
  "kernelspec": {
   "display_name": "Python 3",
   "language": "python",
   "name": "python3"
  },
  "language_info": {
   "codemirror_mode": {
    "name": "ipython",
    "version": 3
   },
   "file_extension": ".py",
   "mimetype": "text/x-python",
   "name": "python",
   "nbconvert_exporter": "python",
   "pygments_lexer": "ipython3",
   "version": "3.10.13"
  }
 },
 "nbformat": 4,
 "nbformat_minor": 2
}
